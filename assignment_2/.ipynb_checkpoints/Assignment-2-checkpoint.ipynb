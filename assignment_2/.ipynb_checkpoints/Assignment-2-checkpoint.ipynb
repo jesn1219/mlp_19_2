{
 "cells": [
  {
   "cell_type": "code",
   "execution_count": 2,
   "metadata": {},
   "outputs": [],
   "source": [
    "''' \n",
    "20170937, JESOON KANG\n",
    "Date : 2019. 9. 26\n",
    "\n",
    "\n",
    "    Assignment 1. \n",
    "\n",
    "- Logistic regression -\n",
    "\n",
    "\n",
    "'''\n",
    "import matplotlib.pyplot as plt\n",
    "import math\n",
    "import numpy as np\n",
    "import random\n",
    "\n",
    "'''\n",
    "New.\n",
    "'''\n",
    "import torch\n",
    "from torch.utils.data import Dataset, DataLoader\n",
    "import torchvision.transforms as transforms\n",
    "import torchvision\n",
    "import os\n",
    "\n",
    "\n",
    "\n",
    "\n",
    "\n",
    "\n",
    "\n",
    "\n"
   ]
  },
  {
   "cell_type": "code",
   "execution_count": 4,
   "metadata": {},
   "outputs": [],
   "source": [
    "\n",
    "\n",
    "\n",
    "transform = transforms.Compose([#transforms.Resize((256,256)),  \n",
    "                                transforms.Grayscale(),\t\t# the code transforms.Graysclae() is for changing the size [3,100,100] to [1, 100, 100] (notice : [channel, height, width] )\n",
    "                                transforms.ToTensor(),])\n",
    "\n",
    "\n",
    "#train_data_path = 'relative path of training data set'\n",
    "train_data_path = './data/horse-or-human/train'\n",
    "trainset = torchvision.datasets.ImageFolder(root=train_data_path, transform=transform)\n",
    "# change the valuse of batch_size, num_workers for your program\n",
    "# if shuffle=True, the data reshuffled at every epoch \n",
    "trainloader = torch.utils.data.DataLoader(trainset, batch_size=1, shuffle=False, num_workers=1)  \n",
    "\n",
    "\n",
    "validation_data_path = './data/horse-or-human/validation'\n",
    "valset = torchvision.datasets.ImageFolder(root=validation_data_path, transform=transform)\n",
    "# change the valuse of batch_size, num_workers for your program\n",
    "valloader = torch.utils.data.DataLoader(valset, batch_size=1, shuffle=False, num_workers=1)  \n",
    "\n",
    "\n",
    "\n",
    "\n",
    "\n"
   ]
  },
  {
   "cell_type": "code",
   "execution_count": 10,
   "metadata": {
    "scrolled": true
   },
   "outputs": [
    {
     "name": "stdout",
     "output_type": "stream",
     "text": [
      "(tensor([[[0.6000, 0.5961, 0.6000,  ..., 0.8353, 0.8745, 0.9059],\n",
      "         [0.6078, 0.6039, 0.6039,  ..., 0.8353, 0.8392, 0.8627],\n",
      "         [0.6118, 0.6118, 0.6118,  ..., 0.8235, 0.8157, 0.8235],\n",
      "         ...,\n",
      "         [0.7451, 0.7725, 0.7765,  ..., 0.8510, 0.8314, 0.7922],\n",
      "         [0.7608, 0.7686, 0.7647,  ..., 0.7922, 0.7843, 0.7647],\n",
      "         [0.7529, 0.7804, 0.7765,  ..., 0.8078, 0.7922, 0.7529]]]), 0)\n"
     ]
    }
   ],
   "source": [
    "print(trainset[1])"
   ]
  },
  {
   "cell_type": "code",
   "execution_count": 11,
   "metadata": {
    "scrolled": true
   },
   "outputs": [
    {
     "name": "stdout",
     "output_type": "stream",
     "text": [
      "Dataset ImageFolder\n",
      "    Number of datapoints: 1027\n",
      "    Root location: ./data/horse-or-human/train\n",
      "    StandardTransform\n",
      "Transform: Compose(\n",
      "               Grayscale(num_output_channels=1)\n",
      "               ToTensor()\n",
      "           )\n"
     ]
    }
   ],
   "source": [
    "print(trainset)"
   ]
  },
  {
   "cell_type": "code",
   "execution_count": null,
   "metadata": {},
   "outputs": [],
   "source": []
  },
  {
   "cell_type": "code",
   "execution_count": null,
   "metadata": {},
   "outputs": [],
   "source": []
  },
  {
   "cell_type": "code",
   "execution_count": 48,
   "metadata": {},
   "outputs": [],
   "source": [
    "# sigmoid Function.\n",
    "def sigmoid(z) :\n",
    "    return 1 / (1 + math.e ** (-z))"
   ]
  },
  {
   "cell_type": "code",
   "execution_count": 49,
   "metadata": {},
   "outputs": [],
   "source": [
    "# h(x) Function. hypothesis Func.\n",
    "def hypothesis(weight,X) :\n",
    "    theta = np.array(weight)\n",
    "    z = np.dot(X,theta)\n",
    "    h = sigmoid(z)\n",
    "    return h"
   ]
  },
  {
   "cell_type": "code",
   "execution_count": 50,
   "metadata": {},
   "outputs": [],
   "source": [
    "# Loss Function\n",
    "def lossFunction(h,y) :\n",
    "    # if i = 1, it occurs ZeroDivisionError ,\n",
    "    # So, adjust value to 0.995\n",
    "    for i in h :\n",
    "        if i == 1 :\n",
    "            i = 0.995\n",
    "    try : \n",
    "        ret = (-y * np.log(h) - (1-y) * np.log(1-h)).mean()\n",
    "    except ZeroDivisionError :\n",
    "        print(\"Error\")\n",
    "    finally :\n",
    "        return (-y * np.log(h) - (1-y) * np.log(1-h)).mean()"
   ]
  },
  {
   "cell_type": "code",
   "execution_count": 77,
   "metadata": {},
   "outputs": [],
   "source": [
    "# predict Function. if h(x) returns >=0.5, set to 1. other cases, set to 0.\n",
    "def predict(h, labels) :\n",
    "    mount = len(h)\n",
    "    correct = 0\n",
    "    \n",
    "    for i in range(0,mount) :\n",
    "        if h[i] >= 0.5 :\n",
    "            if labels[i] == 1 :\n",
    "                correct +=1\n",
    "        else :\n",
    "            if labels[i] == 0 :\n",
    "                correct +=1\n",
    "    \n",
    "    \n",
    "    \n",
    "    \n",
    "    return correct * (1/mount)\n"
   ]
  },
  {
   "cell_type": "code",
   "execution_count": 96,
   "metadata": {},
   "outputs": [],
   "source": [
    "# Data reconstruct. vectorize\n",
    "\n",
    "training_vectorized = []\n",
    "training_labels = []\n",
    "\n",
    "validation_vectorized = []\n",
    "validation_labels = []\n",
    "\n",
    "\n",
    "for i, data in enumerate(trainloader) :\n",
    "    train_data = []\n",
    "    inputs, labels = data\n",
    "\n",
    "    for u in inputs :\n",
    "        for col in u[0] :\n",
    "            train_data += list(col)\n",
    "    training_vectorized.append(train_data)\n",
    "    training_labels.append([labels])\n",
    "\n",
    "training_vectorized = np.array(train_set_vectorized)\n",
    "training_labels = np.array(train_set_labels)\n",
    "\n",
    "for i, data in enumerate(valloader) :\n",
    "    val_data = []\n",
    "    inputs, labels = data\n",
    "    for u in inputs :\n",
    "        for col in u[0] :\n",
    "            val_data += list(col)\n",
    "    validation_vectorized.append(val_data)\n",
    "    validation_labels.append([labels])\n",
    "validation_vectorized = np.array(validation_vectorized)\n",
    "validation_labels = np.array(validation_labels)\n"
   ]
  },
  {
   "cell_type": "code",
   "execution_count": 97,
   "metadata": {
    "scrolled": true
   },
   "outputs": [
    {
     "name": "stdout",
     "output_type": "stream",
     "text": [
      "[[0.]\n",
      " [0.]\n",
      " [0.]\n",
      " ...\n",
      " [0.]\n",
      " [0.]\n",
      " [0.]]\n"
     ]
    }
   ],
   "source": [
    "# Initial Weight Value\n",
    "weight = np.zeros((10000,1),dtype=float)\n",
    "\n",
    "print(weight)\n",
    "\n",
    "# Learning rate \n",
    "learning_rate = 0.00001"
   ]
  },
  {
   "cell_type": "code",
   "execution_count": 58,
   "metadata": {},
   "outputs": [],
   "source": [
    "h = hypothesis(weight,train_set_vectorized)\n",
    "gradient = np.dot(train_set_vectorized.T,h-train_set_labels) / len(train_set_vectorized)"
   ]
  },
  {
   "cell_type": "code",
   "execution_count": 99,
   "metadata": {},
   "outputs": [
    {
     "name": "stdout",
     "output_type": "stream",
     "text": [
      "iter :  1   t_loss :  0.6930653581694007   t_acc :  0.513145082765336   v_loss:  0.6930340369186367   v_acc:  0.5\n",
      "1\n",
      "iter :  2   t_loss :  0.6929844815116197   t_acc :  0.513145082765336   v_loss:  0.6929793976832923   v_acc:  0.5\n",
      "1\n",
      "iter :  3   t_loss :  0.6929045363278128   t_acc :  0.513145082765336   v_loss:  0.6929260105052961   v_acc:  0.5\n",
      "1\n",
      "iter :  4   t_loss :  0.6928255085736981   t_acc :  0.513145082765336   v_loss:  0.6928738487232173   v_acc:  0.5\n",
      "1\n",
      "iter :  5   t_loss :  0.6927473844163334   t_acc :  0.513145082765336   v_loss:  0.6928228861373302   v_acc:  0.5\n",
      "1\n",
      "iter :  6   t_loss :  0.6926701502309922   t_acc :  0.513145082765336   v_loss:  0.6927730970023488   v_acc:  0.5\n",
      "1\n",
      "iter :  7   t_loss :  0.6925937925980834   t_acc :  0.513145082765336   v_loss:  0.692724456020266   v_acc:  0.5\n",
      "1\n",
      "iter :  8   t_loss :  0.6925182983001142   t_acc :  0.513145082765336   v_loss:  0.6926769383332954   v_acc:  0.5\n",
      "1\n",
      "iter :  9   t_loss :  0.6924436543186975   t_acc :  0.513145082765336   v_loss:  0.692630519516914   v_acc:  0.5\n",
      "1\n",
      "iter :  10   t_loss :  0.6923698478315994   t_acc :  0.513145082765336   v_loss:  0.6925851755730066   v_acc:  0.5\n",
      "1\n",
      "iter :  11   t_loss :  0.69229686620983   t_acc :  0.513145082765336   v_loss:  0.6925408829231077   v_acc:  0.5\n",
      "1\n",
      "iter :  12   t_loss :  0.6922246970147746   t_acc :  0.513145082765336   v_loss:  0.6924976184017428   v_acc:  0.5\n",
      "1\n",
      "iter :  13   t_loss :  0.6921533279953667   t_acc :  0.513145082765336   v_loss:  0.6924553592498657   v_acc:  0.5\n",
      "1\n",
      "iter :  14   t_loss :  0.6920827470852994   t_acc :  0.513145082765336   v_loss:  0.6924140831083905   v_acc:  0.5\n",
      "1\n",
      "iter :  15   t_loss :  0.6920129424002791   t_acc :  0.513145082765336   v_loss:  0.6923737680118209   v_acc:  0.5\n",
      "1\n",
      "iter :  16   t_loss :  0.691943902235316   t_acc :  0.513145082765336   v_loss:  0.6923343923819694   v_acc:  0.5\n",
      "1\n",
      "iter :  17   t_loss :  0.6918756150620546   t_acc :  0.513145082765336   v_loss:  0.6922959350217702   v_acc:  0.5\n",
      "1\n",
      "iter :  18   t_loss :  0.6918080695261428   t_acc :  0.513145082765336   v_loss:  0.6922583751091838   v_acc:  0.5\n",
      "1\n",
      "iter :  19   t_loss :  0.6917412544446373   t_acc :  0.513145082765336   v_loss:  0.6922216921911888   v_acc:  0.5\n",
      "1\n",
      "iter :  20   t_loss :  0.6916751588034478   t_acc :  0.513145082765336   v_loss:  0.6921858661778664   v_acc:  0.5\n",
      "1\n",
      "iter :  21   t_loss :  0.6916097717548169   t_acc :  0.513145082765336   v_loss:  0.6921508773365675   v_acc:  0.5\n",
      "1\n",
      "iter :  22   t_loss :  0.6915450826148364   t_acc :  0.513145082765336   v_loss:  0.692116706286171   v_acc:  0.5\n",
      "1\n",
      "iter :  23   t_loss :  0.691481080861001   t_acc :  0.513145082765336   v_loss:  0.6920833339914234   v_acc:  0.5\n",
      "1\n",
      "iter :  24   t_loss :  0.6914177561297946   t_acc :  0.513145082765336   v_loss:  0.6920507417573657   v_acc:  0.5\n",
      "1\n",
      "iter :  25   t_loss :  0.6913550982143135   t_acc :  0.513145082765336   v_loss:  0.6920189112238413   v_acc:  0.5\n",
      "1\n",
      "iter :  26   t_loss :  0.6912930970619239   t_acc :  0.513145082765336   v_loss:  0.691987824360087   v_acc:  0.5\n",
      "1\n",
      "iter :  27   t_loss :  0.6912317427719524   t_acc :  0.513145082765336   v_loss:  0.6919574634594046   v_acc:  0.5\n",
      "1\n",
      "iter :  28   t_loss :  0.6911710255934105   t_acc :  0.513145082765336   v_loss:  0.6919278111339124   v_acc:  0.5\n",
      "1\n",
      "iter :  29   t_loss :  0.6911109359227535   t_acc :  0.513145082765336   v_loss:  0.6918988503093758   v_acc:  0.5\n",
      "1\n",
      "iter :  30   t_loss :  0.6910514643016683   t_acc :  0.513145082765336   v_loss:  0.6918705642201151   v_acc:  0.5\n",
      "1\n",
      "iter :  31   t_loss :  0.6909926014148993   t_acc :  0.513145082765336   v_loss:  0.6918429364039902   v_acc:  0.5\n",
      "1\n",
      "iter :  32   t_loss :  0.690934338088099   t_acc :  0.513145082765336   v_loss:  0.6918159506974622   v_acc:  0.5\n",
      "1\n",
      "iter :  33   t_loss :  0.6908766652857166   t_acc :  0.513145082765336   v_loss:  0.6917895912307273   v_acc:  0.5\n",
      "1\n",
      "iter :  34   t_loss :  0.6908195741089125   t_acc :  0.513145082765336   v_loss:  0.691763842422927   v_acc:  0.5\n",
      "1\n",
      "iter :  35   t_loss :  0.6907630557935062   t_acc :  0.513145082765336   v_loss:  0.6917386889774289   v_acc:  0.5\n",
      "1\n",
      "iter :  36   t_loss :  0.6907071017079531   t_acc :  0.513145082765336   v_loss:  0.6917141158771802   v_acc:  0.5\n",
      "1\n",
      "iter :  37   t_loss :  0.6906517033513516   t_acc :  0.513145082765336   v_loss:  0.6916901083801325   v_acc:  0.5\n",
      "1\n",
      "iter :  38   t_loss :  0.6905968523514783   t_acc :  0.513145082765336   v_loss:  0.6916666520147344   v_acc:  0.5\n",
      "1\n",
      "iter :  39   t_loss :  0.690542540462853   t_acc :  0.513145082765336   v_loss:  0.6916437325754952   v_acc:  0.5\n",
      "1\n",
      "iter :  40   t_loss :  0.6904887595648326   t_acc :  0.513145082765336   v_loss:  0.6916213361186145   v_acc:  0.5\n",
      "1\n",
      "iter :  41   t_loss :  0.6904355016597317   t_acc :  0.513145082765336   v_loss:  0.6915994489576802   v_acc:  0.5\n",
      "1\n",
      "iter :  42   t_loss :  0.6903827588709722   t_acc :  0.513145082765336   v_loss:  0.6915780576594316   v_acc:  0.5\n",
      "1\n",
      "iter :  43   t_loss :  0.690330523441259   t_acc :  0.513145082765336   v_loss:  0.6915571490395873   v_acc:  0.5\n",
      "1\n",
      "iter :  44   t_loss :  0.6902787877307835   t_acc :  0.513145082765336   v_loss:  0.6915367101587385   v_acc:  0.5\n",
      "1\n",
      "iter :  45   t_loss :  0.6902275442154535   t_acc :  0.513145082765336   v_loss:  0.6915167283183041   v_acc:  0.5\n",
      "1\n",
      "iter :  46   t_loss :  0.6901767854851488   t_acc :  0.513145082765336   v_loss:  0.6914971910565492   v_acc:  0.5\n",
      "1\n",
      "iter :  47   t_loss :  0.6901265042420032   t_acc :  0.513145082765336   v_loss:  0.6914780861446642   v_acc:  0.5\n",
      "1\n",
      "iter :  48   t_loss :  0.6900766932987112   t_acc :  0.513145082765336   v_loss:  0.6914594015829054   v_acc:  0.5\n",
      "1\n",
      "iter :  49   t_loss :  0.6900273455768609   t_acc :  0.513145082765336   v_loss:  0.6914411255967949   v_acc:  0.5\n",
      "1\n",
      "iter :  50   t_loss :  0.6899784541052902   t_acc :  0.513145082765336   v_loss:  0.6914232466333793   v_acc:  0.5\n",
      "1\n",
      "iter :  51   t_loss :  0.6899300120184689   t_acc :  0.513145082765336   v_loss:  0.691405753357546   v_acc:  0.5\n",
      "1\n",
      "iter :  52   t_loss :  0.6898820125549036   t_acc :  0.513145082765336   v_loss:  0.6913886346483982   v_acc:  0.5\n",
      "1\n",
      "iter :  53   t_loss :  0.6898344490555663   t_acc :  0.513145082765336   v_loss:  0.691371879595685   v_acc:  0.5\n",
      "1\n",
      "iter :  54   t_loss :  0.6897873149623484   t_acc :  0.513145082765336   v_loss:  0.6913554774962873   v_acc:  0.5\n",
      "1\n",
      "iter :  55   t_loss :  0.6897406038165341   t_acc :  0.513145082765336   v_loss:  0.6913394178507585   v_acc:  0.5\n",
      "1\n",
      "iter :  56   t_loss :  0.6896943092573004   t_acc :  0.513145082765336   v_loss:  0.6913236903599201   v_acc:  0.5\n",
      "1\n",
      "iter :  57   t_loss :  0.6896484250202358   t_acc :  0.513145082765336   v_loss:  0.691308284921509   v_acc:  0.5\n",
      "1\n",
      "iter :  58   t_loss :  0.6896029449358853   t_acc :  0.513145082765336   v_loss:  0.6912931916268783   v_acc:  0.5\n",
      "1\n",
      "iter :  59   t_loss :  0.6895578629283118   t_acc :  0.513145082765336   v_loss:  0.6912784007577493   v_acc:  0.5\n",
      "1\n",
      "iter :  60   t_loss :  0.6895131730136841   t_acc :  0.513145082765336   v_loss:  0.6912639027830152   v_acc:  0.5\n",
      "1\n",
      "iter :  61   t_loss :  0.689468869298883   t_acc :  0.513145082765336   v_loss:  0.6912496883555939   v_acc:  0.5\n",
      "1\n",
      "iter :  62   t_loss :  0.6894249459801287   t_acc :  0.513145082765336   v_loss:  0.6912357483093305   v_acc:  0.5\n",
      "1\n",
      "iter :  63   t_loss :  0.6893813973416294   t_acc :  0.513145082765336   v_loss:  0.6912220736559496   v_acc:  0.5\n",
      "1\n",
      "iter :  64   t_loss :  0.6893382177542495   t_acc :  0.513145082765336   v_loss:  0.691208655582054   v_acc:  0.5\n",
      "1\n",
      "iter :  65   t_loss :  0.6892954016741981   t_acc :  0.513145082765336   v_loss:  0.6911954854461719   v_acc:  0.5\n",
      "1\n",
      "iter :  66   t_loss :  0.6892529436417367   t_acc :  0.513145082765336   v_loss:  0.6911825547758503   v_acc:  0.5\n",
      "1\n",
      "iter :  67   t_loss :  0.6892108382799074   t_acc :  0.513145082765336   v_loss:  0.691169855264794   v_acc:  0.5\n",
      "1\n",
      "iter :  68   t_loss :  0.6891690802932775   t_acc :  0.513145082765336   v_loss:  0.6911573787700507   v_acc:  0.5\n",
      "1\n",
      "iter :  69   t_loss :  0.6891276644667075   t_acc :  0.513145082765336   v_loss:  0.691145117309239   v_acc:  0.5\n",
      "1\n",
      "iter :  70   t_loss :  0.6890865856641313   t_acc :  0.513145082765336   v_loss:  0.6911330630578231   v_acc:  0.5\n",
      "1\n",
      "iter :  71   t_loss :  0.689045838827362   t_acc :  0.513145082765336   v_loss:  0.6911212083464273   v_acc:  0.5\n",
      "1\n",
      "iter :  72   t_loss :  0.6890054189749087   t_acc :  0.513145082765336   v_loss:  0.6911095456581964   v_acc:  0.5\n",
      "1\n"
     ]
    },
    {
     "name": "stdout",
     "output_type": "stream",
     "text": [
      "iter :  73   t_loss :  0.6889653212008163   t_acc :  0.513145082765336   v_loss:  0.691098067626195   v_acc:  0.5\n",
      "1\n",
      "iter :  74   t_loss :  0.6889255406735195   t_acc :  0.513145082765336   v_loss:  0.691086767030851   v_acc:  0.5\n",
      "1\n",
      "iter :  75   t_loss :  0.688886072634716   t_acc :  0.513145082765336   v_loss:  0.6910756367974378   v_acc:  0.5\n",
      "1\n",
      "iter :  76   t_loss :  0.688846912398255   t_acc :  0.513145082765336   v_loss:  0.6910646699935972   v_acc:  0.5\n",
      "1\n",
      "iter :  77   t_loss :  0.6888080553490442   t_acc :  0.513145082765336   v_loss:  0.6910538598269026   v_acc:  0.5\n",
      "1\n",
      "iter :  78   t_loss :  0.6887694969419718   t_acc :  0.513145082765336   v_loss:  0.6910431996424593   v_acc:  0.5\n",
      "1\n",
      "iter :  79   t_loss :  0.6887312327008452   t_acc :  0.513145082765336   v_loss:  0.6910326829205453   v_acc:  0.5\n",
      "1\n",
      "iter :  80   t_loss :  0.6886932582173461   t_acc :  0.513145082765336   v_loss:  0.6910223032742882   v_acc:  0.5\n",
      "1\n",
      "iter :  81   t_loss :  0.6886555691500007   t_acc :  0.513145082765336   v_loss:  0.6910120544473797   v_acc:  0.5\n",
      "1\n",
      "iter :  82   t_loss :  0.6886181612231661   t_acc :  0.513145082765336   v_loss:  0.6910019303118273   v_acc:  0.5\n",
      "1\n",
      "iter :  83   t_loss :  0.6885810302260308   t_acc :  0.513145082765336   v_loss:  0.6909919248657417   v_acc:  0.5\n",
      "1\n",
      "iter :  84   t_loss :  0.6885441720116324   t_acc :  0.513145082765336   v_loss:  0.6909820322311586   v_acc:  0.5\n",
      "1\n",
      "iter :  85   t_loss :  0.6885075824958877   t_acc :  0.513145082765336   v_loss:  0.6909722466518984   v_acc:  0.5\n",
      "1\n",
      "iter :  86   t_loss :  0.6884712576566386   t_acc :  0.513145082765336   v_loss:  0.6909625624914562   v_acc:  0.5\n",
      "1\n",
      "iter :  87   t_loss :  0.6884351935327133   t_acc :  0.513145082765336   v_loss:  0.6909529742309293   v_acc:  0.5\n",
      "1\n",
      "iter :  88   t_loss :  0.6883993862229999   t_acc :  0.513145082765336   v_loss:  0.6909434764669768   v_acc:  0.5\n",
      "1\n",
      "iter :  89   t_loss :  0.6883638318855346   t_acc :  0.513145082765336   v_loss:  0.690934063909811   v_acc:  0.5\n",
      "1\n",
      "iter :  90   t_loss :  0.6883285267366049   t_acc :  0.513145082765336   v_loss:  0.6909247313812237   v_acc:  0.5\n",
      "1\n",
      "iter :  91   t_loss :  0.6882934670498647   t_acc :  0.513145082765336   v_loss:  0.6909154738126411   v_acc:  0.5\n",
      "1\n",
      "iter :  92   t_loss :  0.6882586491554636   t_acc :  0.513145082765336   v_loss:  0.6909062862432134   v_acc:  0.5\n",
      "1\n",
      "iter :  93   t_loss :  0.6882240694391892   t_acc :  0.513145082765336   v_loss:  0.6908971638179329   v_acc:  0.5\n",
      "1\n",
      "iter :  94   t_loss :  0.6881897243416222   t_acc :  0.513145082765336   v_loss:  0.6908881017857837   v_acc:  0.5\n",
      "1\n",
      "iter :  95   t_loss :  0.6881556103573048   t_acc :  0.513145082765336   v_loss:  0.6908790954979216   v_acc:  0.5\n",
      "1\n",
      "iter :  96   t_loss :  0.6881217240339214   t_acc :  0.513145082765336   v_loss:  0.6908701404058815   v_acc:  0.5\n",
      "1\n"
     ]
    },
    {
     "ename": "KeyboardInterrupt",
     "evalue": "",
     "output_type": "error",
     "traceback": [
      "\u001b[0;31m---------------------------------------------------------------------------\u001b[0m",
      "\u001b[0;31mKeyboardInterrupt\u001b[0m                         Traceback (most recent call last)",
      "\u001b[0;32m<ipython-input-99-8b8d20401829>\u001b[0m in \u001b[0;36m<module>\u001b[0;34m\u001b[0m\n\u001b[1;32m     27\u001b[0m \u001b[0;34m\u001b[0m\u001b[0m\n\u001b[1;32m     28\u001b[0m \u001b[0;34m\u001b[0m\u001b[0m\n\u001b[0;32m---> 29\u001b[0;31m     \u001b[0mh_validation\u001b[0m \u001b[0;34m=\u001b[0m \u001b[0mhypothesis\u001b[0m\u001b[0;34m(\u001b[0m\u001b[0mweight\u001b[0m\u001b[0;34m,\u001b[0m \u001b[0mvalidation_vectorized\u001b[0m\u001b[0;34m)\u001b[0m\u001b[0;34m\u001b[0m\u001b[0;34m\u001b[0m\u001b[0m\n\u001b[0m\u001b[1;32m     30\u001b[0m     \u001b[0mvalidation_loss\u001b[0m \u001b[0;34m=\u001b[0m \u001b[0mlossFunction\u001b[0m\u001b[0;34m(\u001b[0m\u001b[0mh_validation\u001b[0m\u001b[0;34m,\u001b[0m \u001b[0mvalidation_labels\u001b[0m\u001b[0;34m)\u001b[0m\u001b[0;34m\u001b[0m\u001b[0;34m\u001b[0m\u001b[0m\n\u001b[1;32m     31\u001b[0m     \u001b[0mvalidation_acc\u001b[0m \u001b[0;34m=\u001b[0m \u001b[0mpredict\u001b[0m\u001b[0;34m(\u001b[0m\u001b[0mh_validation\u001b[0m\u001b[0;34m,\u001b[0m \u001b[0mvalidation_labels\u001b[0m\u001b[0;34m)\u001b[0m\u001b[0;34m\u001b[0m\u001b[0;34m\u001b[0m\u001b[0m\n",
      "\u001b[0;32m<ipython-input-49-9b550379ca05>\u001b[0m in \u001b[0;36mhypothesis\u001b[0;34m(weight, X)\u001b[0m\n\u001b[1;32m      2\u001b[0m \u001b[0;32mdef\u001b[0m \u001b[0mhypothesis\u001b[0m\u001b[0;34m(\u001b[0m\u001b[0mweight\u001b[0m\u001b[0;34m,\u001b[0m\u001b[0mX\u001b[0m\u001b[0;34m)\u001b[0m \u001b[0;34m:\u001b[0m\u001b[0;34m\u001b[0m\u001b[0;34m\u001b[0m\u001b[0m\n\u001b[1;32m      3\u001b[0m     \u001b[0mtheta\u001b[0m \u001b[0;34m=\u001b[0m \u001b[0mnp\u001b[0m\u001b[0;34m.\u001b[0m\u001b[0marray\u001b[0m\u001b[0;34m(\u001b[0m\u001b[0mweight\u001b[0m\u001b[0;34m)\u001b[0m\u001b[0;34m\u001b[0m\u001b[0;34m\u001b[0m\u001b[0m\n\u001b[0;32m----> 4\u001b[0;31m     \u001b[0mz\u001b[0m \u001b[0;34m=\u001b[0m \u001b[0mnp\u001b[0m\u001b[0;34m.\u001b[0m\u001b[0mdot\u001b[0m\u001b[0;34m(\u001b[0m\u001b[0mX\u001b[0m\u001b[0;34m,\u001b[0m\u001b[0mtheta\u001b[0m\u001b[0;34m)\u001b[0m\u001b[0;34m\u001b[0m\u001b[0;34m\u001b[0m\u001b[0m\n\u001b[0m\u001b[1;32m      5\u001b[0m     \u001b[0mh\u001b[0m \u001b[0;34m=\u001b[0m \u001b[0msigmoid\u001b[0m\u001b[0;34m(\u001b[0m\u001b[0mz\u001b[0m\u001b[0;34m)\u001b[0m\u001b[0;34m\u001b[0m\u001b[0;34m\u001b[0m\u001b[0m\n\u001b[1;32m      6\u001b[0m     \u001b[0;32mreturn\u001b[0m \u001b[0mh\u001b[0m\u001b[0;34m\u001b[0m\u001b[0;34m\u001b[0m\u001b[0m\n",
      "\u001b[0;31mKeyboardInterrupt\u001b[0m: "
     ]
    }
   ],
   "source": [
    "\n",
    "# Log variables setting\n",
    "log_training_loss = []\n",
    "log_validation_loss = []\n",
    "log_iter = []\n",
    "log_training_acc = []\n",
    "log_validation_acc = []\n",
    "\n",
    "\n",
    "i = 0\n",
    "\n",
    "loss_log_train.append(1)\n",
    "# train, 5000 times\n",
    "while (True):\n",
    "    i += 1\n",
    "    h = hypothesis(weight,training_vectorized)\n",
    "    \n",
    "    gradient = np.dot(training_vectorized.T,h-training_labels) / len(training_vectorized)\n",
    "    \n",
    "    # adjust weight values with gradient value\n",
    "    weight-= learning_rate*gradient    \n",
    "    \n",
    "    # get train loss value\n",
    "    training_loss = lossFunction(h,training_labels)\n",
    "    \n",
    "    # get accuracy\n",
    "    training_acc = predict(h,train_set_labels)\n",
    "    \n",
    "    \n",
    "    h_validation = hypothesis(weight, validation_vectorized)\n",
    "    validation_loss = lossFunction(h_validation, validation_labels)\n",
    "    validation_acc = predict(h_validation, validation_labels)\n",
    "    \n",
    "    # add log data\n",
    "    log_training_loss.append(training_loss)\n",
    "    log_training_acc.append(training_acc)\n",
    "    \n",
    "    log_validation_loss.append(validation_loss)\n",
    "    log_validation_acc.append(validation_acc)\n",
    "    log_iter.append(i)\n",
    "    \n",
    "    print(\"iter : \",i, \"  t_loss : \",training_loss,\"  t_acc : \", training_acc,\"  v_loss: \",validation_loss, \"  v_acc: \", validation_acc)\n",
    "    print(loss_log_train[-1])\n",
    "    \n",
    "    \n",
    "    \n",
    "    if ( (abs(cur_train_loss - loss_log_train[-2]) < 0.0000001) ) :\n",
    "        print(\"loss val is convergenced\")\n",
    "        break\n",
    "    \n",
    "    \n",
    "print(\"Finished\")    \n"
   ]
  },
  {
   "cell_type": "code",
   "execution_count": 16,
   "metadata": {
    "scrolled": true
   },
   "outputs": [
    {
     "data": {
      "image/png": "[encoded data removed]",
      "text/plain": [
       "<Figure size 432x288 with 1 Axes>"
      ]
     },
     "metadata": {
      "needs_background": "light"
     },
     "output_type": "display_data"
    }
   ],
   "source": [
    "t1 = plt.plot(iter_log,loss_log_train, color='orange',label='Training Loss')\n",
    "t2 = plt.plot(iter_log,loss_log_test, color= 'red',label='Testing Loss')\n",
    "plt.title(\"Loss\")\n",
    "plt.legend(['Training Loss','Testing Loss'])\n",
    "plt.show()"
   ]
  },
  {
   "cell_type": "code",
   "execution_count": 17,
   "metadata": {},
   "outputs": [
    {
     "data": {
      "image/png": "[encoded data removed]",
      "text/plain": [
       "<Figure size 432x288 with 1 Axes>"
      ]
     },
     "metadata": {
      "needs_background": "light"
     },
     "output_type": "display_data"
    }
   ],
   "source": [
    "t1 = plt.plot(iter_log,acc_log_train, color='orange',label='Training Acc')\n",
    "t2 = plt.plot(iter_log,acc_log_test, color= 'red',label='Testing Acc')\n",
    "plt.title(\"Accuracy\")\n",
    "plt.legend(['Training Acc','Testing Acc'])\n",
    "plt.show()"
   ]
  },
  {
   "cell_type": "code",
   "execution_count": 18,
   "metadata": {},
   "outputs": [],
   "source": [
    "# commit Point."
   ]
  }
 ],
 "metadata": {
  "kernelspec": {
   "display_name": "PyTorch",
   "language": "python",
   "name": "pytorch"
  },
  "language_info": {
   "codemirror_mode": {
    "name": "ipython",
    "version": 3
   },
   "file_extension": ".py",
   "mimetype": "text/x-python",
   "name": "python",
   "nbconvert_exporter": "python",
   "pygments_lexer": "ipython3",
   "version": "3.7.3"
  }
 },
 "nbformat": 4,
 "nbformat_minor": 2
}
