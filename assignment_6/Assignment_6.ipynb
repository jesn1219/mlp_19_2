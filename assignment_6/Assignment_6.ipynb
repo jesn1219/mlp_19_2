{
 "cells": [
  {
   "cell_type": "code",
   "execution_count": 1,
   "metadata": {},
   "outputs": [],
   "source": [
    "''' \n",
    "\n",
    "Submitter : \n",
    "JESOON KANG, 20170937\n",
    "CHUNG-ANG UNIVERSITY\n",
    "EDITED Date : 2019. 11.7 \n",
    "\n",
    "\n",
    "    Assignment 6.\n",
    "    \n",
    "    L2 Regulazation\n",
    "\n",
    "--\n",
    "\n",
    "\n",
    "'''\n",
    "import matplotlib.pyplot as plt\n",
    "import math\n",
    "import numpy as np\n",
    "import random\n",
    "\n",
    "import torch\n",
    "from torch.utils.data import Dataset, DataLoader\n",
    "import torchvision.transforms as transforms\n",
    "\n",
    "import torchvision\n",
    "import os\n",
    "\n",
    "\n",
    "EPSILON = 1.5 * 10**-12\n",
    "LEARNING_RATE = 0.0001\n",
    "BATCH_SIZE = 100\n",
    "FEATURE_SIZE = 10000\n",
    "SHOW_LOG = True\n"
   ]
  },
  {
   "cell_type": "code",
   "execution_count": 2,
   "metadata": {},
   "outputs": [],
   "source": [
    "\n",
    "#### Section 1. #### This Section is bringed Data_import_ex.py file.\n",
    "\n",
    "# Image Data import & resize\n",
    "\n",
    "transform = transforms.Compose([#transforms.Resize((256,256)),  \n",
    "                                transforms.Grayscale(),\t\t# the code transforms.Graysclae() is for changing the size [3,100,100] to [1, 100, 100] (notice : [channel, height, width] )\n",
    "                                transforms.ToTensor(),])\n",
    "\n",
    "#train_data_path = 'relative path of training data set'\n",
    "train_data_path = '../data/horse-or-human/train'\n",
    "trainset = torchvision.datasets.ImageFolder(root=train_data_path, transform=transform)\n",
    "# change the valuse of batch_size, num_workers for your program\n",
    "# if shuffle=True, the data reshuffled at every epoch \n",
    "trainloader = torch.utils.data.DataLoader(trainset, batch_size=100, shuffle=True, num_workers=0)  \n",
    "\n",
    "\n",
    "validation_data_path = '../data/horse-or-human/validation'\n",
    "valset = torchvision.datasets.ImageFolder(root=validation_data_path, transform=transform)\n",
    "# change the valuse of batch_size, num_workers for your program\n",
    "valloader = torch.utils.data.DataLoader(valset, batch_size=100, shuffle=True, num_workers=0)  \n",
    "\n",
    "#### Section 1 END ####\n"
   ]
  },
  {
   "cell_type": "code",
   "execution_count": 3,
   "metadata": {},
   "outputs": [],
   "source": [
    "\n",
    "# sigmoid Function.\n",
    "def sigmoid(z) :\n",
    "    return 1 / (1 + torch.pow(math.e,-z)+ EPSILON)\n",
    "\n",
    "\n",
    "def get_activation(z,type) :\n",
    "    if (type == 0) :\n",
    "        return sigmoid(z)\n",
    "    else :\n",
    "        print(\"Error, get_activation\")\n",
    "        return 0\n",
    "\n",
    "def get_derv_activation(z,type) :\n",
    "    if (type == 0) :\n",
    "        return sigmoid(z)*(1-sigmoid(z))\n",
    "    else :\n",
    "        print(\"Error, get_derv_activation\")\n",
    "        return 0                                                                  "
   ]
  },
  {
   "cell_type": "code",
   "execution_count": 4,
   "metadata": {},
   "outputs": [
    {
     "name": "stdout",
     "output_type": "stream",
     "text": [
      "Using device: cpu\n",
      "\n"
     ]
    }
   ],
   "source": [
    "### Setting up Device\n",
    "device = torch.device('cuda' if torch.cuda.is_available() else 'cpu')\n",
    "# Below codes activates when want to use cpu\n",
    "device = torch.device('cpu')\n",
    "print('Using device:', device)\n",
    "print()\n",
    "\n",
    "#Additional Info when using cuda\n",
    "if device.type == 'cuda':\n",
    "    print(torch.cuda.get_device_name(0))\n",
    "    print('Memory Usage:')\n",
    "    print('Allocated:', round(torch.cuda.memory_allocated(0)/1024**3,1), 'GB')\n",
    "    print('Cached:   ', round(torch.cuda.memory_cached(0)/1024**3,1), 'GB')"
   ]
  },
  {
   "cell_type": "code",
   "execution_count": 5,
   "metadata": {},
   "outputs": [],
   "source": [
    "\n",
    "def get_origin_loss(y,a) :\n",
    "    ret = -(torch.div(y,a+EPSILON) - torch.div(1-y,1-a+EPSILON))\n",
    "    return ret\n",
    "\n",
    "class ML :\n",
    "    def __init__(self,act1,act2,act3,L1_size,L2_size,L3_size,lr,min_loss_diff,LAMBDA=0.0001) :\n",
    "        self.act_type_1 = act1\n",
    "        self.act_type_2 = act2\n",
    "        self.act_type_3 = act3 \n",
    "        self.l1_size = L1_size\n",
    "        self.l2_size = L2_size\n",
    "        self.l3_size = L3_size\n",
    "        self.feature_size = 10000\n",
    "        self.epoch = 0\n",
    "        self.lr = lr\n",
    "        self.min_loss_diff = min_loss_diff\n",
    "        self.lamb = LAMBDA\n",
    "        self.init_weights()\n",
    "        self.con_epoch = 0\n",
    "        print(\"ML Object initialized\")\n",
    "        self.iter = 0\n",
    "\n",
    "        self.val_acc_log = []\n",
    "        self.val_loss_log = []\n",
    "        self.train_acc_log = []\n",
    "        self.train_loss_log = []\n",
    "        self.epoch_log = []\n",
    "        self.val_acc_log.append(0)\n",
    "        self.val_loss_log.append(0)\n",
    "        self.train_acc_log.append(0)\n",
    "        self.train_loss_log.append(0)\n",
    "        self.epoch_log.append(0)\n",
    "        \n",
    "    def init_weights(self) :\n",
    "        self.w_1 = torch.FloatTensor(self.feature_size,self.l1_size).uniform_(-1,1).to(device)\n",
    "        self.b_1 = torch.FloatTensor(1,self.l1_size).uniform_(-1,1).to(device)\n",
    "                \n",
    "        self.w_2 = torch.FloatTensor(self.l1_size,self.l2_size).uniform_(-1,1).to(device)\n",
    "        self.b_2 = torch.FloatTensor(1,self.l2_size).uniform_(-1,1).to(device)\n",
    "\n",
    "        self.w_3 = torch.FloatTensor(self.l2_size,self.l3_size).uniform_(-1,1).to(device)\n",
    "        self.b_3 = torch.FloatTensor(1,self.l3_size).uniform_(-1,1).to(device)\n",
    "\n",
    "        \n",
    "\n",
    "        \n",
    "    def training(self) :\n",
    "        \n",
    "        epoch = 0\n",
    "        for epoch in range(0,1000000):\n",
    "            train_acc_log_tmp = []\n",
    "            train_loss_log_tmp = []\n",
    "            val_acc_log_tmp = []\n",
    "            val_loss_log_tmp = []\n",
    "            \n",
    "\n",
    "        # load training images of the batch size for every iteration\n",
    "            for i, data in enumerate(trainloader):\n",
    "                \n",
    "                # inputs is the images\n",
    "                # labels is the class of the image\n",
    "                inputs, labels = data\n",
    "                inputs, labels = inputs.float() , labels.float()\n",
    "                # if you don't change the image size, it will be [batch_size, 1, 100, 100]\n",
    "\n",
    "                # if labels is horse it returns tensor[0,0,0] else it returns tensor[1,1,1]\n",
    "                \n",
    "                self.t_data_batch = torch.squeeze(torch.FloatTensor(data[0]),3)\n",
    "                \n",
    "                self.t_data_batch = self.t_data_batch.view(len(data[0]),FEATURE_SIZE).to(device)\n",
    "                #print(\"test : shape \", self.t_data_batch.shape)\n",
    "                \n",
    "                # this must added to NN-re file\n",
    "                self.batch_size = self.t_data_batch.shape[0]\n",
    "                \n",
    "                self.z_1 = torch.matmul(self.t_data_batch,self.w_1) + self.b_1\n",
    "                \n",
    "                self.a_1 = get_activation(self.z_1,self.act_type_1)\n",
    "                \n",
    "                self.z_2 = torch.matmul(self.a_1,self.w_2) + self.b_2\n",
    "\n",
    "                self.a_2 = get_activation(self.z_2,self.act_type_2) # 1027 x 50\n",
    "\n",
    "                self.z_3 = torch.matmul(self.a_2,self.w_3) + self.b_3\n",
    "                self.a_3 = get_activation(self.z_3,self.act_type_3) # 1027 x 1\n",
    "            \n",
    "                self.t_yh_batch = data[1].float().unsqueeze(1).to(device)\n",
    "\n",
    "                acc = self.get_acc(self.a_3,self.t_yh_batch)\n",
    "                B = (self.lamb/2)*(torch.sum(self.w_1**2)**(0.5) + torch.sum(self.w_2**2)**(0.5) + torch.sum(self.w_3**2)**(0.5))\n",
    "                loss = get_origin_loss(self.t_yh_batch,self.a_3).mean() + (B/self.batch_size)\n",
    "\n",
    "                train_acc_log_tmp.append(acc)\n",
    "                train_loss_log_tmp.append(loss)\n",
    "                \n",
    "                self.update_weights(self.t_yh_batch,self.a_3)\n",
    "            \n",
    "            \n",
    "\n",
    "\n",
    "            train_acc = torch.tensor(train_acc_log_tmp).mean().item()\n",
    "            train_loss = torch.tensor(train_loss_log_tmp).mean().item()\n",
    "            if SHOW_LOG == True :\n",
    "                print(\"Train| E: %s, Loss: %.9s, Acc:%.9s\"%(epoch,train_loss,train_acc))\n",
    "            \n",
    "           \n",
    "\n",
    "            # load validation images of the batch size for every iteration\n",
    "            for i, data in enumerate(valloader):\n",
    "\n",
    "                # inputs is the image\n",
    "                # labels is the class of the image\n",
    "                inputs, labels = data\n",
    "                inputs, labels = inputs.float() , labels.float()\n",
    "                # if you don't change the image size, it will be [batch_size, 1, 100, 100]\n",
    "                \n",
    "                \n",
    "                # if labels is horse it returns tensor[0,0,0] else it returns tensor[1,1,1]\n",
    "                \n",
    "                self.v_data_batch = torch.squeeze(torch.FloatTensor(data[0]),3)\n",
    "                \n",
    "                self.v_data_batch = self.v_data_batch.view(len(data[0]),FEATURE_SIZE).to(device)\n",
    "                self.batch_size = self.v_data_batch.shape[0]\n",
    "                self.z_1 = torch.matmul(self.v_data_batch,self.w_1) + self.b_1\n",
    "                \n",
    "                self.a_1 = get_activation(self.z_1,self.act_type_1)\n",
    "     \n",
    "                self.z_2 = torch.matmul(self.a_1,self.w_2) + self.b_2\n",
    "                self.a_2 = get_activation(self.z_2,self.act_type_2) # 1027 x 50\n",
    "\n",
    "                self.z_3 = torch.matmul(self.a_2,self.w_3) + self.b_3\n",
    "                self.a_3 = get_activation(self.z_3,self.act_type_3) # 1027 x 1\n",
    "\n",
    "                self.v_yh_batch = data[1].float().unsqueeze(1).to(device)\n",
    "                acc = self.get_acc(self.a_3,self.v_yh_batch)\n",
    "                B = (self.lamb/2)*(torch.sum(self.w_1**2)**(0.5) + torch.sum(self.w_2**2)**(0.5) + torch.sum(self.w_3**2)**(0.5))\n",
    "                loss = get_origin_loss(self.v_yh_batch,self.a_3).mean() + (B/self.batch_size)\n",
    "                val_acc_log_tmp.append(acc)\n",
    "                val_loss_log_tmp.append(loss)\n",
    "            val_acc = torch.tensor(val_acc_log_tmp).mean().item()\n",
    "            val_loss = torch.tensor(val_loss_log_tmp).mean().item()\n",
    "            if SHOW_LOG == True :\n",
    "                print(\"                                              VAL |E: %s, Loss : %.9s, ACC: %.9s\"%(epoch,val_loss,val_acc))\n",
    "\n",
    "            self.train_acc_log.append(train_acc)\n",
    "            self.train_loss_log.append(train_loss)\n",
    "            self.val_acc_log.append(val_acc)\n",
    "            self.val_loss_log.append(val_loss)\n",
    "            self.epoch_log.append(epoch)\n",
    "            epoch += 1\n",
    "            \n",
    "            tmp_idx = len(self.train_loss_log)-1\n",
    "            \n",
    "            loss_gap = abs(self.train_loss_log[tmp_idx]-self.train_loss_log[tmp_idx-1])\n",
    "            if SHOW_LOG == True :\n",
    "                print(\"                                                                                          %10.8s : Loss gap\"%(loss_gap))\n",
    "            if ( (loss_gap < self.min_loss_diff) or (epoch >=50000) ) : # epoach condition for system fail\n",
    "                print(\"Learning is terminated.\")\n",
    "                self.con_epoch = epoch\n",
    "                break     \n",
    "            \n",
    "\n",
    "        \n",
    "    def update_weights(self,t_y,a_3) :\n",
    "        error_wb3 = -(torch.div(t_y,a_3+ EPSILON) - torch.div(1.0-t_y,1.0-a_3+ EPSILON))\n",
    "        #print(\"error_wb3.shape :\",error_wb3.shape)\n",
    "        d_z_3 = error_wb3*get_derv_activation(self.z_3,self.act_type_3) #\n",
    "        #print(\"d_z_3.shape : \",d_z_3.shape)\n",
    "        #print(\"a_2.shape :\",self.a_2.shape)\n",
    "        d_w_3 = torch.matmul(self.a_2.T,d_z_3)\n",
    "        d_b_3 = torch.sum(d_z_3, dim=0, keepdim=True) / self.a_2.shape[0] # mean도 됨\n",
    "        \n",
    "        #########\n",
    "        \n",
    "        error_wb2 = torch.matmul(d_z_3,self.w_3.T)\n",
    "        \n",
    "        d_z_2 = error_wb2*get_derv_activation(self.z_2,self.act_type_2)\n",
    "        #print(\"self.a_1 shape : \",self.a_1.shape)\n",
    "        #print(\"d_z_2.shape : \", d_z_2.shape)\n",
    "        d_w_2 = torch.matmul(self.a_1.T,d_z_2)\n",
    "        #print(\"d_w_2.shape : \",d_w_2.shape)\n",
    "        d_b_2 = torch.sum(d_z_2, dim=0,keepdims=True) / self.a_1.shape[0]\n",
    "        \n",
    "   \n",
    "        error_wb1 = torch.matmul(d_z_2,self.w_2.T)\n",
    "        d_z_1 = error_wb1*get_derv_activation(self.z_1,self.act_type_1)\n",
    "        d_w_1 = torch.matmul(self.t_data_batch.T, d_z_1) #100, 10000 / 100,10\n",
    "        d_b_1 = torch.sum(d_z_1, dim=0,keepdims=True) / self.t_data_batch.shape[0]\n",
    "        \n",
    "        \n",
    "        #print(\"d_w_3.shape :\", d_w_3.shape)\n",
    "        self.w_3 = (1 - (self.lr*self.lamb)/(self.batch_size))*self.w_3 - self.lr*d_w_3\n",
    "        self.b_3 += -self.lr*d_b_3\n",
    "        self.w_2 = (1 - (self.lr*self.lamb)/(self.batch_size))*self.w_2 - self.lr*d_w_2\n",
    "        self.b_2 += -self.lr*d_b_2\n",
    "        self.w_1 = (1 - (self.lr*self.lamb)/(self.batch_size))*self.w_1 -self.lr*d_w_1\n",
    "        self.b_1 += -self.lr*d_b_1\n",
    "        #print(b_3,b_2,b_1)\n",
    "        \n",
    "    def get_acc(self,yhat,y) :\n",
    "        count = 0\n",
    "      \n",
    "        for a,b in zip(yhat,y) :\n",
    "            if a >= 0.5 :\n",
    "                if b == 1 :\n",
    "                    count+=1\n",
    "            else :\n",
    "                if b == 0:\n",
    "                    count +=1\n",
    "        \n",
    "        return count / len(yhat)\n",
    "\n",
    "    def show_loss(self) :\n",
    "        #print(self.train_loss_log)\n",
    "        #print(self.val_loss_log)\n",
    "        #print(self.epoch_log)\n",
    "        \n",
    "        tmp_1 = torch.tensor(self.train_loss_log)\n",
    "        tmp_2 = torch.tensor(self.epoch_log)\n",
    "       \n",
    "        t1 = plt.plot(self.epoch_log,self.train_loss_log, color='orange',label='Training Loss')\n",
    "        t2 = plt.plot(self.epoch_log,self.val_loss_log, color= 'red',label='Validation Loss')\n",
    "        plt.title(\"Loss\")\n",
    "        plt.legend(['Training Loss','Validation Loss'])\n",
    "        plt.show()\n",
    "    def show_acc(self) :\n",
    "        t1 = plt.plot(self.epoch_log,self.train_acc_log, color='orange',label='Training Acc')\n",
    "        t2 = plt.plot(self.epoch_log,self.val_acc_log, color= 'red',label='Validation Acc')\n",
    "        plt.title(\"Accuracy\")\n",
    "        plt.legend(['Training Acc','Validation Acc'])\n",
    "        plt.show()\n",
    "    def get_final_result(self) :\n",
    "        print(\"Architecture info : \")\n",
    "        print(\"| Layer Size | Learning Rate | Lambda |LOSS_CONVERG_VAL|\")\n",
    "        print(\"|%3s %3s %3s |%15s|%8s|%16s|\"%(self.l1_size,self.l2_size,self.l3_size,self.lr,self.lamb,self.min_loss_diff))\n",
    "        print(\"_________________________________\")\n",
    "        print(\"|Dataset    | loss    | accuracy|\")\n",
    "        print(\"|training   |%9.8s|%9.8s|\"%(self.train_loss_log[-1],self.train_acc_log[-1]))\n",
    "        print(\"|validation |%9.8s|%9.8s|\"%(self.val_loss_log[-1],self.val_acc_log[-1]))\n",
    "        print(\"|CONVERGEND EPOACH : %5s      |\"%(self.con_epoch))\n",
    "        print(\"|_______________________________|\")"
   ]
  },
  {
   "cell_type": "code",
   "execution_count": 6,
   "metadata": {
    "scrolled": true
   },
   "outputs": [
    {
     "name": "stdout",
     "output_type": "stream",
     "text": [
      "ML Object initialized\n"
     ]
    }
   ],
   "source": [
    "\n",
    "LEARNING_RATE = 0.0005\n",
    "MIN_LOSS_DIFF = 0.000001\n",
    "activation_type = 0 # 0 = sigmoid\n",
    "SHOW_LOG = False\n",
    "\n",
    "\n",
    "\n",
    "# Best Generalization : appropriate Lambda\n",
    "machine_1 = ML(0,0,0,10,5,1,LEARNING_RATE,MIN_LOSS_DIFF,LAMBDA=0.1)\n",
    "\n",
    "\n",
    "\n",
    "\n"
   ]
  },
  {
   "cell_type": "code",
   "execution_count": 7,
   "metadata": {
    "scrolled": true
   },
   "outputs": [
    {
     "name": "stdout",
     "output_type": "stream",
     "text": [
      "Learning is terminated.\n"
     ]
    }
   ],
   "source": [
    "machine_1.training()"
   ]
  },
  {
   "cell_type": "code",
   "execution_count": 8,
   "metadata": {},
   "outputs": [
    {
     "name": "stdout",
     "output_type": "stream",
     "text": [
      "ML Object initialized\n"
     ]
    }
   ],
   "source": [
    "# Bias : large Lambda\n",
    "machine_2 = ML(0,0,0,10,5,1,LEARNING_RATE,MIN_LOSS_DIFF,LAMBDA=0.5)\n",
    "machine_2.training()"
   ]
  },
  {
   "cell_type": "code",
   "execution_count": 9,
   "metadata": {},
   "outputs": [
    {
     "name": "stdout",
     "output_type": "stream",
     "text": [
      "ML Object initialized\n"
     ]
    }
   ],
   "source": [
    "# Variance : Small Lambda\n",
    "machine_3 = ML(0,0,0,10,5,1,LEARNING_RATE,MIN_LOSS_DIFF,LAMBDA=0.001)\n",
    "machine_3.training()"
   ]
  },
  {
   "cell_type": "code",
   "execution_count": 10,
   "metadata": {},
   "outputs": [
    {
     "name": "stdout",
     "output_type": "stream",
     "text": [
      "Architecture info : \n",
      "| Layer Size | Learning Rate | Lambda |LOSS_CONVERG_VAL|\n",
      "| 10   5   1 |         0.0005|     0.1|           1e-05|\n",
      "_________________________________\n",
      "|Dataset    | loss    | accuracy|\n",
      "|training   | 0.245710| 0.947542|\n",
      "|validation | -8.09319| 0.783333|\n",
      "|CONVERGEND EPOACH :   782      |\n",
      "|_______________________________|\n"
     ]
    }
   ],
   "source": [
    "machine_1.get_final_result()\n",
    "machine_2.get_final_result()\n",
    "machine_3.get_final_result()"
   ]
  },
  {
   "cell_type": "code",
   "execution_count": 11,
   "metadata": {
    "scrolled": true
   },
   "outputs": [
    {
     "data": {
      "image/png": "[encoded data removed]",
      "text/plain": [
       "<Figure size 432x288 with 1 Axes>"
      ]
     },
     "metadata": {},
     "output_type": "display_data"
    },
    {
     "data": {
      "image/png": "[encoded data removed]",
      "text/plain": [
       "<Figure size 432x288 with 1 Axes>"
      ]
     },
     "metadata": {},
     "output_type": "display_data"
    }
   ],
   "source": [
    "machine_1.show_loss()\n",
    "machine_1.show_acc()"
   ]
  },
  {
   "cell_type": "code",
   "execution_count": 12,
   "metadata": {},
   "outputs": [],
   "source": [
    "#machine_2.show_loss()\n",
    "#machine_2.show_acc()"
   ]
  },
  {
   "cell_type": "code",
   "execution_count": 13,
   "metadata": {},
   "outputs": [],
   "source": [
    "#machine_3.show_loss()\n",
    "#machine_3.show_acc()"
   ]
  }
 ],
 "metadata": {
  "kernelspec": {
   "display_name": "Python 3",
   "language": "python",
   "name": "python3"
  },
  "language_info": {
   "codemirror_mode": {
    "name": "ipython",
    "version": 3
   },
   "file_extension": ".py",
   "mimetype": "text/x-python",
   "name": "python",
   "nbconvert_exporter": "python",
   "pygments_lexer": "ipython3",
   "version": "3.6.8"
  }
 },
 "nbformat": 4,
 "nbformat_minor": 2
}
